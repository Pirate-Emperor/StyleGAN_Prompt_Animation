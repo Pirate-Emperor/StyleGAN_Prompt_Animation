{
 "cells": [
  {
   "cell_type": "code",
   "execution_count": null,
   "metadata": {
    "colab": {
     "base_uri": "https://localhost:8080/"
    },
    "id": "TbEATjEJ6iyw",
    "outputId": "41bcc57f-ac25-4497-f154-dd94c8b6ec57"
   },
   "outputs": [],
   "source": [
    "!pip install tensorflow"
   ]
  },
  {
   "cell_type": "code",
   "execution_count": null,
   "metadata": {
    "colab": {
     "base_uri": "https://localhost:8080/",
     "height": 380
    },
    "id": "7WErNtyaMBkg",
    "outputId": "f85f3e4e-be42-4824-ac13-4d59d609bfe0"
   },
   "outputs": [],
   "source": [
    "# %tensorflow_version 1.x\n",
    "import tensorflow as tf"
   ]
  },
  {
   "cell_type": "code",
   "execution_count": null,
   "metadata": {
    "colab": {
     "base_uri": "https://localhost:8080/"
    },
    "id": "7Ijf8b3pMQQ4",
    "outputId": "0458164b-21d0-4bd4-c610-b963f886e0cc"
   },
   "outputs": [],
   "source": [
    "print('Tensorflow version: {}'.format(tf.__version__) )"
   ]
  },
  {
   "cell_type": "code",
   "execution_count": null,
   "metadata": {
    "colab": {
     "base_uri": "https://localhost:8080/"
    },
    "id": "iaHracqcMbGG",
    "outputId": "7e83acae-b7a3-4b35-bc56-afe13825c269"
   },
   "outputs": [],
   "source": [
    "!git clone https://github.com/NVlabs/stylegan2.git"
   ]
  },
  {
   "cell_type": "code",
   "execution_count": null,
   "metadata": {
    "colab": {
     "base_uri": "https://localhost:8080/"
    },
    "id": "O-cefcyIeEcF",
    "outputId": "2fb640a7-674e-415f-c2cb-1ed79180eefd"
   },
   "outputs": [],
   "source": [
    "%cd /content/stylegan2"
   ]
  },
  {
   "cell_type": "code",
   "execution_count": null,
   "metadata": {
    "colab": {
     "base_uri": "https://localhost:8080/"
    },
    "id": "PNmyKsDLdwfN",
    "outputId": "cd80156c-168a-41c4-9658-f67c136be1f4"
   },
   "outputs": [],
   "source": [
    "!pip install googledrivedownloader"
   ]
  },
  {
   "cell_type": "code",
   "execution_count": null,
   "metadata": {
    "colab": {
     "base_uri": "https://localhost:8080/",
     "height": 467
    },
    "id": "Z-GaxIWe7PG-",
    "outputId": "9619439e-501a-4789-e557-1e9ab46593ea"
   },
   "outputs": [],
   "source": [
    "import pretrained_networks\n",
    "from google_drive_downloader import GoogleDriveDownloader as gdd"
   ]
  },
  {
   "cell_type": "code",
   "execution_count": null,
   "metadata": {
    "colab": {
     "base_uri": "https://localhost:8080/",
     "height": 571
    },
    "id": "NhTyPa7nMkdJ",
    "outputId": "5bd27a9b-a583-4a44-f73a-de1a9bd49022"
   },
   "outputs": [],
   "source": [
    "\n",
    "\n",
    "\n",
    "url = 'https://drive.google.com/open?id=1WNQELgHnaqMTq3TlrnDaVkyrAH8Zrjez'\n",
    "#'https://drive.google.com/open?id=1BHeqOZ58WZ-vACR2MJkh1ZVbJK2B-Kle'\n",
    "model_id = url.replace('https://drive.google.com/open?id=', '')\n",
    "\n",
    "network_pkl = '/content/models/model_%s.pkl' % model_id#(hashlib.md5(model_id.encode()).hexdigest())\n",
    "gdd.download_file_from_google_drive(file_id=model_id,\n",
    "                                    dest_path=network_pkl)\n",
    "\n",
    "_G, _D, Gs = pretrained_networks.load_networks(network_pkl)"
   ]
  },
  {
   "cell_type": "code",
   "execution_count": null,
   "metadata": {
    "id": "AjpK-2zlH53S"
   },
   "outputs": [],
   "source": [
    "Gs.vars[\"dlatent_avg\"].value().eval()"
   ]
  },
  {
   "cell_type": "code",
   "execution_count": null,
   "metadata": {
    "id": "i1ERJeUUQB6Q"
   },
   "outputs": [],
   "source": [
    "import numpy as np\n",
    "\n",
    "def generate_zs_from_seeds(seeds):\n",
    "    zs = []\n",
    "    for seed_idx, seed in enumerate(seeds):\n",
    "        rnd = np.random.RandomState(seed)\n",
    "        z = rnd.randn(1, *Gs.input_shape[1:]) # [minibatch, component]\n",
    "        zs.append(z)\n",
    "    return zs"
   ]
  },
  {
   "cell_type": "code",
   "execution_count": null,
   "metadata": {
    "id": "gRCDKbOsVaJF"
   },
   "outputs": [],
   "source": [
    "!pip install tqdm"
   ]
  },
  {
   "cell_type": "code",
   "execution_count": null,
   "metadata": {
    "id": "ZgmREoZfezH_"
   },
   "outputs": [],
   "source": [
    "import dnnlib\n",
    "import dnnlib.tflib as tflib\n",
    "import PIL.Image\n",
    "from tqdm import tqdm\n",
    "\n",
    "noise_vars = [var for name, var in Gs.components.synthesis.vars.items() if name.startswith('noise')]\n",
    "\n",
    "def generate_images(zs, truncation_psi):\n",
    "    Gs_kwargs = dnnlib.EasyDict()\n",
    "    Gs_kwargs.output_transform = dict(func=tflib.convert_images_to_uint8, nchw_to_nhwc=True)\n",
    "    Gs_kwargs.randomize_noise = False\n",
    "    if not isinstance(truncation_psi, list):\n",
    "        truncation_psi = [truncation_psi] * len(zs)\n",
    "        \n",
    "    imgs = []\n",
    "    for z_idx, z in tqdm(enumerate(zs)):\n",
    "        Gs_kwargs.truncation_psi = truncation_psi[z_idx]\n",
    "        noise_rnd = np.random.RandomState(1) # fix noise\n",
    "        tflib.set_vars({var: noise_rnd.randn(*var.shape.as_list()) for var in noise_vars}) # [height, width]\n",
    "        images = Gs.run(z, None, **Gs_kwargs) # [minibatch, height, width, channel]\n",
    "        imgs.append(PIL.Image.fromarray(images[0], 'RGB'))\n",
    "    return imgs\n",
    "\n",
    "def generate_images_from_seeds(seeds, truncation_psi):\n",
    "    return generate_images(generate_zs_from_seeds(seeds), truncation_psi)"
   ]
  },
  {
   "cell_type": "code",
   "execution_count": null,
   "metadata": {
    "id": "a3_Py6sqUHil"
   },
   "outputs": [],
   "source": [
    "# generate some random seeds\n",
    "seeds = np.random.randint(10000000, size=9)\n",
    "print(seeds)\n",
    "\n",
    "zs = generate_zs_from_seeds(seeds)\n",
    "imgs = generate_images(zs, .7)"
   ]
  },
  {
   "cell_type": "code",
   "execution_count": null,
   "metadata": {
    "id": "nRktlxSU2R2P"
   },
   "outputs": [],
   "source": [
    "imgs[0]"
   ]
  },
  {
   "cell_type": "code",
   "execution_count": null,
   "metadata": {
    "id": "Kg8tjks0UzWo"
   },
   "outputs": [],
   "source": [
    "from math import ceil\n",
    "\n",
    "def createImageGrid(images, scale=0.25, rows=1):\n",
    "   w,h = images[0].size\n",
    "   w = int(w*scale)\n",
    "   h = int(h*scale)\n",
    "   height = rows*h\n",
    "   cols = ceil(len(images) / rows)\n",
    "   width = cols*w\n",
    "   canvas = PIL.Image.new('RGBA', (width,height), 'white')\n",
    "   for i,img in enumerate(images):\n",
    "     img = img.resize((w,h), PIL.Image.ANTIALIAS)\n",
    "     canvas.paste(img, (w*(i % cols), h*(i // cols))) \n",
    "   return canvas"
   ]
  },
  {
   "cell_type": "code",
   "execution_count": null,
   "metadata": {
    "id": "x8Ia3aBhWh6w"
   },
   "outputs": [],
   "source": [
    "createImageGrid(imgs, rows=3)"
   ]
  },
  {
   "cell_type": "code",
   "execution_count": null,
   "metadata": {
    "id": "gLW6PgQ2Xjiw"
   },
   "outputs": [],
   "source": [
    "def interpolate(zs, steps):\n",
    "   out = []\n",
    "   for i in range(len(zs)-1):\n",
    "    for index in range(steps):\n",
    "     fraction = index/float(steps) \n",
    "     out.append(zs[i+1]*fraction + zs[i]*(1-fraction))\n",
    "   return out"
   ]
  },
  {
   "cell_type": "code",
   "execution_count": null,
   "metadata": {
    "id": "Ls-wK60VYO_-"
   },
   "outputs": [],
   "source": [
    "seeds = np.random.randint(10000000, size=2)\n",
    "zs = generate_zs_from_seeds(seeds)\n",
    "imgs = generate_images(interpolate(zs, 7), 0.5)"
   ]
  },
  {
   "cell_type": "code",
   "execution_count": null,
   "metadata": {
    "id": "Kl_ue3DtYtxe"
   },
   "outputs": [],
   "source": [
    "seeds = np.random.randint(10000000, size=2)\n",
    "zs = generate_zs_from_seeds(seeds)\n",
    "imgs = generate_images(interpolate(zs, 7), 0.5)\n",
    "createImageGrid(imgs, rows=1)"
   ]
  },
  {
   "cell_type": "code",
   "execution_count": null,
   "metadata": {
    "id": "T5w1LOJSY2hB"
   },
   "outputs": [],
   "source": [
    "import scipy\n",
    "\n",
    "grid_size = [3, 3]\n",
    "image_shrink = 1\n",
    "image_zoom = 1\n",
    "duration_sec = 5\n",
    "smoothing_sec = 1.0\n",
    "fps = 15\n",
    "codec = 'libx264'\n",
    "bitrate = '2M'#4M\n",
    "random_seed = np.random.randint(0, 999)#405\n",
    "filename = 'random_grid_%s.gif' % random_seed\n",
    "truncation_psi= 0.7\n",
    "\n",
    "num_frames = int(np.rint(duration_sec * fps))\n",
    "random_state = np.random.RandomState(random_seed)\n",
    "\n",
    "# Generate latent vectors\n",
    "shape = [num_frames, np.prod(grid_size)] + Gs.input_shape[1:] # [frame, image, channel, component]\n",
    "all_latents = random_state.randn(*shape).astype(np.float32)\n",
    "all_latents = scipy.ndimage.gaussian_filter(all_latents, [smoothing_sec * fps] + [0] * len(Gs.input_shape), mode='wrap')\n",
    "all_latents /= np.sqrt(np.mean(np.square(all_latents)))\n",
    "\n",
    "\n",
    "def create_image_grid(images, grid_size=None):\n",
    "    assert images.ndim == 3 or images.ndim == 4\n",
    "    num, img_h, img_w, channels = images.shape\n",
    "\n",
    "    if grid_size is not None:\n",
    "        grid_w, grid_h = tuple(grid_size)\n",
    "    else:\n",
    "        grid_w = max(int(np.ceil(np.sqrt(num))), 1)\n",
    "        grid_h = max((num - 1) // grid_w + 1, 1)\n",
    "\n",
    "    grid = np.zeros([grid_h * img_h, grid_w * img_w, channels], dtype=images.dtype)\n",
    "    for idx in range(num):\n",
    "        x = (idx % grid_w) * img_w\n",
    "        y = (idx // grid_w) * img_h\n",
    "        grid[y : y + img_h, x : x + img_w] = images[idx]\n",
    "    return grid\n",
    "\n",
    "# Frame generation func for moviepy.\n",
    "def make_frame(t):\n",
    "    frame_idx = int(np.clip(np.round(t * fps), 0, num_frames - 1))\n",
    "    latents = all_latents[frame_idx]\n",
    "    fmt = dict(func=tflib.convert_images_to_uint8, nchw_to_nhwc=True)\n",
    "    images = Gs.run(latents, None, truncation_psi=truncation_psi,\n",
    "                          randomize_noise=False, output_transform=fmt, \n",
    "                          minibatch_size=16)\n",
    "\n",
    "    grid = create_image_grid(images, grid_size)\n",
    "    if image_zoom > 1:\n",
    "        grid = scipy.ndimage.zoom(grid, [image_zoom, image_zoom, 1], order=0)\n",
    "    if grid.shape[2] == 1:\n",
    "        grid = grid.repeat(3, 2) # grayscale => RGB\n",
    "    return grid\n",
    "\n",
    "# Generate video.\n",
    "import moviepy.editor\n",
    "video_clip = moviepy.editor.VideoClip(make_frame, duration=duration_sec)\n",
    "\n",
    "# Use this if you want to generate .mp4 video instead\n",
    "# video_clip.write_videofile(\"interpolate3x2-2m.mp4\", fps=fps, codec=codec, bitrate=bitrate)\n",
    "\n",
    "video_clip.write_gif(filename,fps=15)"
   ]
  },
  {
   "cell_type": "code",
   "execution_count": null,
   "metadata": {
    "id": "4vzz3lIoPyl5"
   },
   "outputs": [],
   "source": [
    "#video_clip.write_videofile(\"interpolate.mp4\", fps=15, codec='libx264', bitrate='2M')\n",
    "video_clip.write_gif(filename,fps=15)"
   ]
  },
  {
   "cell_type": "code",
   "execution_count": null,
   "metadata": {
    "id": "v-z7JfLxa6B6"
   },
   "outputs": [],
   "source": [
    "from IPython import display as ipythondisplay\n",
    "import io\n",
    "import os\n",
    "import base64\n",
    "from IPython.display import HTML\n",
    "\n",
    "def show_video(vid):\n",
    "  #mp4list = [video\n",
    "  #if len(mp4list) > 0:\n",
    "  ext = os.path.splitext(vid)[-1][1:]\n",
    "  video = io.open(vid, 'r+b').read()\n",
    "  #encoded = base64.b64encode(video)\n",
    "  ipythondisplay.display(HTML(data='''<video alt=\"test\" autoplay \n",
    "              loop controls style=\"height: 400px;\">\n",
    "              <source src=\"data:video/{1}';base64,{0}\" type=\"video/{1}\" />\n",
    "              </video>'''.format(base64.b64encode(video).decode('ascii'), ext)))\n",
    "  \n",
    "show_video(filename)"
   ]
  },
  {
   "cell_type": "code",
   "execution_count": null,
   "metadata": {
    "id": "0HvfaUI4boiG"
   },
   "outputs": [],
   "source": []
  }
 ],
 "metadata": {
  "accelerator": "GPU",
  "colab": {
   "gpuType": "T4",
   "provenance": []
  },
  "kernelspec": {
   "display_name": "Python 3 (ipykernel)",
   "language": "python",
   "name": "python3"
  },
  "language_info": {
   "codemirror_mode": {
    "name": "ipython",
    "version": 3
   },
   "file_extension": ".py",
   "mimetype": "text/x-python",
   "name": "python",
   "nbconvert_exporter": "python",
   "pygments_lexer": "ipython3",
   "version": "3.10.8"
  }
 },
 "nbformat": 4,
 "nbformat_minor": 1
}
